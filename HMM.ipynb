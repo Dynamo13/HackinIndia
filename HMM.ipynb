{
  "nbformat": 4,
  "nbformat_minor": 0,
  "metadata": {
    "colab": {
      "name": "HMM.ipynb",
      "provenance": []
    },
    "kernelspec": {
      "name": "python3",
      "display_name": "Python 3"
    }
  },
  "cells": [
    {
      "cell_type": "code",
      "metadata": {
        "id": "rnWveeuclJxc",
        "colab_type": "code",
        "colab": {}
      },
      "source": [
        "import numpy as np\n",
        "\n",
        "transition=np.array([[.70,.101,0.033,.013,.0086,.0080,.128,.0084],\n",
        "                   [.673,.303,.004,.004,.004,.004,.004,.004],\n",
        "                   [.153,.401,.381,.035,0.012,0.012,.005,.001],\n",
        "                   [.101,.099,.100,.334,.103,.094,.101,.068],\n",
        "                   [.105,.051,.155,.100,.186,.201,.192,.010],\n",
        "                   [.305,.140,.105,.050,.00,.148,.102,.150],\n",
        "                   [.401,.251,.145,.040,.00,.014,.139,.010],\n",
        "                   [.501,.153,.152,.024,.00,.022,.012,.136]])\n",
        "\n",
        "start=np.array([12.5,12.5,12.5,12.5,12.5,12.5,12.5,12.5])\n",
        "\n",
        "#update eqn\n",
        "res=start@transition\n",
        "while True:\n",
        "    if((res==start).all()):\n",
        "        break\n",
        "    else:\n",
        "        start=res\n",
        "        res=start@transition\n",
        "        \n",
        "\n",
        "print('Enter 1 for yes and 0 for no as an answer to the following symptoms')\n",
        "a=int(input('Do you have Fever or an infrequent temperature rise?'))\n",
        "b=int(input('Did you lose taste/skipped meal?'))\n",
        "c=int(input('Do you have a dry cough?'))\n",
        "d=int(input('Do you have fatigueness ?'))\n",
        "e=int(input('Do you have shortness of breath?'))\n",
        "f=int(input('Did you have a sore throat?'))\n",
        "g=int(input('Did you have a head ache?'))\n",
        "h=int(input('Did you experience body chills recently?'))\n",
        "\n",
        "covid=[a,b,c,d,e,f,g,h]\n",
        "\n",
        "final=res*covid\n",
        "  \n",
        "print(\"You are\", final.sum(),\" % prone\")"
      ],
      "execution_count": null,
      "outputs": []
    }
  ]
}